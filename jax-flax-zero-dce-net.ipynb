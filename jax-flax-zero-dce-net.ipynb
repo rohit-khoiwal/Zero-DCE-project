{
  "metadata": {
    "kernelspec": {
      "language": "python",
      "display_name": "Python 3",
      "name": "python3"
    },
    "language_info": {
      "name": "python",
      "version": "3.7.12",
      "mimetype": "text/x-python",
      "codemirror_mode": {
        "name": "ipython",
        "version": 3
      },
      "pygments_lexer": "ipython3",
      "nbconvert_exporter": "python",
      "file_extension": ".py"
    },
    "colab": {
      "provenance": []
    },
    "accelerator": "GPU",
    "gpuClass": "standard"
  },
  "nbformat_minor": 0,
  "nbformat": 4,
  "cells": [
    {
      "cell_type": "code",
      "source": [
        "from google.colab import drive\n",
        "drive.mount('/content/drive')"
      ],
      "metadata": {
        "id": "LiGsC6RbQNh5",
        "outputId": "2f8adb8b-5181-40f2-d8f5-7507f3ebe253",
        "colab": {
          "base_uri": "https://localhost:8080/"
        }
      },
      "execution_count": 1,
      "outputs": [
        {
          "output_type": "stream",
          "name": "stdout",
          "text": [
            "Mounted at /content/drive\n"
          ]
        }
      ]
    },
    {
      "cell_type": "code",
      "source": [
        "%cd /content/drive/MyDrive/Kaggle/datasets"
      ],
      "metadata": {
        "id": "rEVIyxyTSaNz",
        "outputId": "150bd888-7f10-446c-99fc-55e09fc9682e",
        "colab": {
          "base_uri": "https://localhost:8080/"
        }
      },
      "execution_count": 2,
      "outputs": [
        {
          "output_type": "stream",
          "name": "stdout",
          "text": [
            "/content/drive/MyDrive/Kaggle/datasets\n"
          ]
        }
      ]
    },
    {
      "cell_type": "code",
      "source": [
        "# !pip install -q --upgrade \"jax[cuda11_cudnn805]\" -f https://storage.googleapis.com/jax-releases/jax_releases.html\n",
        "# !pip install -q --upgrade jaxlib\n",
        "!pip install -q flax"
      ],
      "metadata": {
        "id": "9WUf9aP0SwYr",
        "outputId": "ef6dcc4d-d020-4651-ef4d-988a8103efe5",
        "colab": {
          "base_uri": "https://localhost:8080/"
        }
      },
      "execution_count": 3,
      "outputs": [
        {
          "output_type": "stream",
          "name": "stdout",
          "text": [
            "\u001b[K     |████████████████████████████████| 180 kB 24.2 MB/s \n",
            "\u001b[K     |████████████████████████████████| 217 kB 71.1 MB/s \n",
            "\u001b[K     |████████████████████████████████| 145 kB 72.0 MB/s \n",
            "\u001b[K     |████████████████████████████████| 51 kB 7.1 MB/s \n",
            "\u001b[K     |████████████████████████████████| 76 kB 4.9 MB/s \n",
            "\u001b[?25h"
          ]
        }
      ]
    },
    {
      "cell_type": "code",
      "source": [
        "import jax\n",
        "import jax.numpy as jnp\n",
        "import optax\n",
        "import flax.linen as nn\n",
        "\n",
        "import tensorflow as tf\n",
        "AUTOTUNE= tf.data.AUTOTUNE\n",
        "\n",
        "from PIL import Image\n",
        "import matplotlib.pyplot as plt\n",
        "\n",
        "import os\n",
        "from glob import glob\n",
        "from functools import partial\n",
        "\n",
        "from tqdm import tqdm\n",
        "import pandas as pd"
      ],
      "metadata": {
        "execution": {
          "iopub.status.busy": "2022-09-12T10:21:46.130994Z",
          "iopub.execute_input": "2022-09-12T10:21:46.131685Z",
          "iopub.status.idle": "2022-09-12T10:21:53.694839Z",
          "shell.execute_reply.started": "2022-09-12T10:21:46.131642Z",
          "shell.execute_reply": "2022-09-12T10:21:53.693855Z"
        },
        "trusted": true,
        "id": "iJtgYu15PZvS"
      },
      "execution_count": 4,
      "outputs": []
    },
    {
      "cell_type": "code",
      "source": [
        "IMAGE_SIZE = 256\n",
        "MAX_TRAIN_IMAGES = 1024\n",
        "BATCH_SIZE = 64\n",
        "TRAIN_VAL_IMAGE_DIR = \"train/\"\n",
        "TEST_IMAGE_DIR = \"eval/low\""
      ],
      "metadata": {
        "execution": {
          "iopub.status.busy": "2022-09-12T10:21:53.697009Z",
          "iopub.execute_input": "2022-09-12T10:21:53.697682Z",
          "iopub.status.idle": "2022-09-12T10:21:53.704873Z",
          "shell.execute_reply.started": "2022-09-12T10:21:53.697633Z",
          "shell.execute_reply": "2022-09-12T10:21:53.704021Z"
        },
        "trusted": true,
        "id": "dIUL2VoPPZvU"
      },
      "execution_count": 6,
      "outputs": []
    },
    {
      "cell_type": "code",
      "source": [
        "train_val_image_files = glob(os.path.join(TRAIN_VAL_IMAGE_DIR, \"*.jpg\"))\n",
        "train_image_files = train_val_image_files[:MAX_TRAIN_IMAGES]\n",
        "val_image_files = train_val_image_files[MAX_TRAIN_IMAGES:]\n",
        "\n",
        "print(\"Number of Training Images:\", len(train_image_files))\n",
        "print(\"Number of Validation Images:\", len(val_image_files))"
      ],
      "metadata": {
        "execution": {
          "iopub.status.busy": "2022-09-12T10:21:53.707877Z",
          "iopub.execute_input": "2022-09-12T10:21:53.708427Z",
          "iopub.status.idle": "2022-09-12T10:21:53.875663Z",
          "shell.execute_reply.started": "2022-09-12T10:21:53.708400Z",
          "shell.execute_reply": "2022-09-12T10:21:53.874635Z"
        },
        "trusted": true,
        "id": "36dVFicaPZvV",
        "outputId": "226b9464-fd1c-4e3b-f0ea-f3d3bb7950d5",
        "colab": {
          "base_uri": "https://localhost:8080/"
        }
      },
      "execution_count": 7,
      "outputs": [
        {
          "output_type": "stream",
          "name": "stdout",
          "text": [
            "Number of Training Images: 1024\n",
            "Number of Validation Images: 183\n",
            "Number of Test Images from LOL Dataset: 15\n"
          ]
        }
      ]
    },
    {
      "cell_type": "code",
      "source": [
        "def load_data(image_path):\n",
        "    image = tf.io.read_file(image_path)\n",
        "    image = tf.image.decode_png(image, channels=3)\n",
        "    image = tf.image.resize(images=image, size=[IMAGE_SIZE, IMAGE_SIZE])\n",
        "    image = image / 255.0\n",
        "    return image\n",
        "\n",
        "\n",
        "def get_dataset(images):\n",
        "    dataset = tf.data.Dataset.from_tensor_slices((images))\n",
        "    dataset = dataset.map(load_data, num_parallel_calls=AUTOTUNE)\n",
        "    dataset = dataset.batch(BATCH_SIZE, drop_remainder=True)\n",
        "    dataset = dataset.prefetch(AUTOTUNE)\n",
        "    return dataset"
      ],
      "metadata": {
        "execution": {
          "iopub.status.busy": "2022-09-12T10:21:53.879334Z",
          "iopub.execute_input": "2022-09-12T10:21:53.879622Z",
          "iopub.status.idle": "2022-09-12T10:21:53.887138Z",
          "shell.execute_reply.started": "2022-09-12T10:21:53.879595Z",
          "shell.execute_reply": "2022-09-12T10:21:53.886201Z"
        },
        "trusted": true,
        "id": "iG0Vny_ePZvV"
      },
      "execution_count": 8,
      "outputs": []
    },
    {
      "cell_type": "code",
      "source": [
        "train_dataset = get_dataset(train_image_files)\n",
        "eval_dataset = get_dataset(val_image_files)"
      ],
      "metadata": {
        "execution": {
          "iopub.status.busy": "2022-09-12T10:21:53.889831Z",
          "iopub.execute_input": "2022-09-12T10:21:53.890195Z",
          "iopub.status.idle": "2022-09-12T10:21:57.250501Z",
          "shell.execute_reply.started": "2022-09-12T10:21:53.890167Z",
          "shell.execute_reply": "2022-09-12T10:21:57.249595Z"
        },
        "trusted": true,
        "id": "tp1WtqVsPZvW"
      },
      "execution_count": 29,
      "outputs": []
    },
    {
      "cell_type": "code",
      "source": [
        "imgs = next(iter(train_dataset))"
      ],
      "metadata": {
        "execution": {
          "iopub.status.busy": "2022-09-12T10:21:57.252128Z",
          "iopub.execute_input": "2022-09-12T10:21:57.252502Z",
          "iopub.status.idle": "2022-09-12T10:21:59.865737Z",
          "shell.execute_reply.started": "2022-09-12T10:21:57.252467Z",
          "shell.execute_reply": "2022-09-12T10:21:59.863692Z"
        },
        "trusted": true,
        "id": "VQ0_0cWLPZvX"
      },
      "execution_count": 14,
      "outputs": []
    },
    {
      "cell_type": "code",
      "source": [
        "def get_test_dataset(path):\n",
        "    dataset = tf.keras.utils.image_dataset_from_directory(\n",
        "        path, labels=None, image_size=(256, 256), batch_size=128\n",
        "    )\n",
        "    lst = []\n",
        "    for batch in dataset:\n",
        "        lst.extend(batch / 255)\n",
        "    return jnp.array(lst)\n",
        "\n",
        "test_imgs = get_test_dataset('eval/low')"
      ],
      "metadata": {
        "id": "mCcfNJ1bWQgw",
        "outputId": "5162083e-4369-4959-b21e-d531da6ae852",
        "colab": {
          "base_uri": "https://localhost:8080/"
        }
      },
      "execution_count": 45,
      "outputs": [
        {
          "output_type": "stream",
          "name": "stdout",
          "text": [
            "Found 15 files belonging to 1 classes.\n"
          ]
        }
      ]
    },
    {
      "cell_type": "code",
      "source": [
        "plt.imshow(imgs[0])\n",
        "print(imgs.shape)"
      ],
      "metadata": {
        "execution": {
          "iopub.status.busy": "2022-09-12T10:22:13.411247Z",
          "iopub.execute_input": "2022-09-12T10:22:13.411983Z",
          "iopub.status.idle": "2022-09-12T10:22:13.637394Z",
          "shell.execute_reply.started": "2022-09-12T10:22:13.411948Z",
          "shell.execute_reply": "2022-09-12T10:22:13.636350Z"
        },
        "trusted": true,
        "id": "cnrTSRbEPZvX",
        "outputId": "ffd343d6-4375-4dce-81d6-ebc47ff238ea",
        "colab": {
          "base_uri": "https://localhost:8080/",
          "height": 286
        }
      },
      "execution_count": 49,
      "outputs": [
        {
          "output_type": "stream",
          "name": "stdout",
          "text": [
            "(64, 256, 256, 3)\n"
          ]
        },
        {
          "output_type": "display_data",
          "data": {
            "text/plain": [
              "<Figure size 432x288 with 1 Axes>"
            ],
            "image/png": "[encoded data removed]"
          },
          "metadata": {
            "needs_background": "light"
          }
        }
      ]
    },
    {
      "cell_type": "markdown",
      "source": [
        "## Model and its functions"
      ],
      "metadata": {
        "id": "vDL6IjArPZvZ"
      }
    },
    {
      "cell_type": "code",
      "source": [
        "def get_enhanced_image(org_img, output):\n",
        "    for i in range(0, 3 * 8, 3):\n",
        "        r = output[:, :, :, i : i + 3]\n",
        "        org_img = org_img + r * (jnp.square(org_img) - org_img)\n",
        "    return org_img"
      ],
      "metadata": {
        "id": "04DH6CceThrY"
      },
      "execution_count": 50,
      "outputs": []
    },
    {
      "cell_type": "markdown",
      "source": [
        "#### Loss Functions"
      ],
      "metadata": {
        "id": "VY5nm09iPZva"
      }
    },
    {
      "cell_type": "code",
      "source": [
        "def color_constancy_loss(x):\n",
        "    mean_rgb = jnp.mean(x, axis=(1, 2), keepdims=True)\n",
        "    mean_red = mean_rgb[:, :, :, 0]\n",
        "    mean_green = mean_rgb[:, :, :, 1]\n",
        "    mean_blue = mean_rgb[:, :, :, 2]\n",
        "    diff_red_green = jnp.square(mean_red - mean_green)\n",
        "    diff_red_blue = jnp.square(mean_red - mean_blue)\n",
        "    diff_green_blue = jnp.square(mean_blue - mean_green)\n",
        "    return jnp.sqrt(\n",
        "        jnp.square(diff_red_green)\n",
        "        + jnp.square(diff_red_blue)\n",
        "        + jnp.square(diff_green_blue)\n",
        "    )"
      ],
      "metadata": {
        "execution": {
          "iopub.status.busy": "2022-09-12T10:22:16.661469Z",
          "iopub.execute_input": "2022-09-12T10:22:16.662060Z",
          "iopub.status.idle": "2022-09-12T10:22:16.670679Z",
          "shell.execute_reply.started": "2022-09-12T10:22:16.662018Z",
          "shell.execute_reply": "2022-09-12T10:22:16.669570Z"
        },
        "trusted": true,
        "id": "tdSy34XHPZvb"
      },
      "execution_count": 51,
      "outputs": []
    },
    {
      "cell_type": "code",
      "source": [
        "def exposure_loss(x, mean_val=0.6):\n",
        "    x = jnp.mean(x, axis=3, keepdims=True)\n",
        "    mean = nn.avg_pool(x, (16, 16), strides=(16, 16))\n",
        "    return jnp.mean(jnp.square(mean - mean_val))"
      ],
      "metadata": {
        "execution": {
          "iopub.status.busy": "2022-09-12T10:22:16.892081Z",
          "iopub.execute_input": "2022-09-12T10:22:16.892537Z",
          "iopub.status.idle": "2022-09-12T10:22:16.900257Z",
          "shell.execute_reply.started": "2022-09-12T10:22:16.892491Z",
          "shell.execute_reply": "2022-09-12T10:22:16.899143Z"
        },
        "trusted": true,
        "id": "xCUhjyQOPZvb"
      },
      "execution_count": 52,
      "outputs": []
    },
    {
      "cell_type": "code",
      "source": [
        "def illumination_smoothness_loss(x):\n",
        "    batch_size = x.shape[0]\n",
        "    height_x = x.shape[1]\n",
        "    width_x = x.shape[2]\n",
        "\n",
        "    count_height = (width_x - 1) * x.shape[3]\n",
        "    count_width = width_x * (x.shape[3] - 1)\n",
        "\n",
        "    heigth_total_variance = jnp.sum(jnp.square(x[:, 1:, :, :] - x[:, : height_x - 1, :, :]))\n",
        "    width_total_variance = jnp.sum(jnp.square(x[:, :, 1:, :] - x[:, :, : width_x - 1, :]))\n",
        "\n",
        "    return (2 * (heigth_total_variance / count_height + width_total_variance / count_width)/ batch_size)"
      ],
      "metadata": {
        "execution": {
          "iopub.status.busy": "2022-09-12T10:22:17.181520Z",
          "iopub.execute_input": "2022-09-12T10:22:17.181985Z",
          "iopub.status.idle": "2022-09-12T10:22:17.195397Z",
          "shell.execute_reply.started": "2022-09-12T10:22:17.181945Z",
          "shell.execute_reply": "2022-09-12T10:22:17.194125Z"
        },
        "trusted": true,
        "id": "rWD7N_krPZvc"
      },
      "execution_count": 53,
      "outputs": []
    },
    {
      "cell_type": "code",
      "source": [
        "class SpatialConsistencyLoss:\n",
        "    def __init__(self):\n",
        "        self.conv = partial(nn.Conv, features=1, kernel_size=(3, 3))\n",
        "        self.left_conv = self.conv(kernel_init=self.init_lk)\n",
        "        self.right_conv = self.conv(kernel_init=self.init_rk)\n",
        "        self.up_conv = self.conv(kernel_init=self.init_uk)\n",
        "        self.down_conv = self.conv(kernel_init=self.init_dk)\n",
        "\n",
        "        self.left_params = self.init_params(self.left_conv, jnp.ones([1, 64, 64, 1]))\n",
        "        self.right_params = self.init_params(self.right_conv, jnp.ones([1, 64, 64, 1]))\n",
        "        self.up_params = self.init_params(self.up_conv, jnp.ones([1, 64, 64, 1]))\n",
        "        self.down_params = self.init_params(self.right_conv, jnp.ones([1, 64, 64, 1]))\n",
        "\n",
        "    def init_lk(self, *args):\n",
        "        return jnp.array(\n",
        "            [[[[0]], [[0]], [[0]]], [[[-1]], [[1]], [[0]]], [[[0]], [[0]], [[0]]]]\n",
        "        )\n",
        "\n",
        "    def init_rk(self, *args):\n",
        "        return jnp.array(\n",
        "            [[[[0]], [[0]], [[0]]], [[[0]], [[1]], [[-1]]], [[[0]], [[0]], [[0]]]]\n",
        "        )\n",
        "\n",
        "    def init_uk(self, *args):\n",
        "        return jnp.array(\n",
        "            [[[[0]], [[-1]], [[0]]], [[[0]], [[1]], [[0]]], [[[0]], [[0]], [[0]]]]\n",
        "        )\n",
        "\n",
        "    def init_dk(self, *args):\n",
        "        return jnp.array(\n",
        "            [[[[0]], [[0]], [[0]]], [[[0]], [[1]], [[0]]], [[[0]], [[-1]], [[0]]]]\n",
        "        )\n",
        "\n",
        "    def init_params(self, conv, x):\n",
        "        return conv.init(jax.random.PRNGKey(0), x)\n",
        "\n",
        "    def __call__(self, org, enhance):\n",
        "        org_mean = jnp.mean(org, axis=3, keepdims=True)\n",
        "        enhance_mean = jnp.mean(enhance, axis=3, keepdims=True)\n",
        "\n",
        "        org_pool = nn.avg_pool(org_mean, window_shape=(4, 4), strides=(4, 4))\n",
        "        enhance_pool = nn.avg_pool(enhance_mean, window_shape=(4, 4), strides=(4, 4))\n",
        "\n",
        "        # left kernel\n",
        "        d_org_left = self.left_conv.apply(self.left_params, org_pool)\n",
        "        d_enhance_left = self.left_conv.apply(self.left_params, enhance_pool)\n",
        "\n",
        "        # right kernel\n",
        "        d_org_right = self.right_conv.apply(self.right_params, org_pool)\n",
        "        d_enhance_right = self.right_conv.apply(self.right_params, enhance_pool)\n",
        "\n",
        "        # up kernel\n",
        "        d_org_up = self.up_conv.apply(self.up_params, org_pool)\n",
        "        d_enhance_up = self.up_conv.apply(self.up_params, enhance_pool)\n",
        "\n",
        "        # down kernel\n",
        "        d_org_down = self.down_conv.apply(self.down_params, org_pool)\n",
        "        d_enhance_down = self.down_conv.apply(self.down_params, enhance_pool)\n",
        "\n",
        "        d_left = jnp.square(d_org_left - d_enhance_left)\n",
        "        d_right = jnp.square(d_org_right - d_enhance_right)\n",
        "        d_up = jnp.square(d_org_up - d_enhance_up)\n",
        "        d_down = jnp.square(d_org_down - d_enhance_down)\n",
        "        return d_left + d_right + d_up + d_down"
      ],
      "metadata": {
        "execution": {
          "iopub.status.busy": "2022-09-12T10:22:17.606460Z",
          "iopub.execute_input": "2022-09-12T10:22:17.606832Z",
          "iopub.status.idle": "2022-09-12T10:22:17.626715Z",
          "shell.execute_reply.started": "2022-09-12T10:22:17.606799Z",
          "shell.execute_reply": "2022-09-12T10:22:17.625637Z"
        },
        "trusted": true,
        "id": "l_sibBn_PZvd"
      },
      "execution_count": 54,
      "outputs": []
    },
    {
      "cell_type": "markdown",
      "source": [
        "#### Model"
      ],
      "metadata": {
        "id": "QQHmkOAiPZvd"
      }
    },
    {
      "cell_type": "code",
      "source": [
        "def plot_results(images, figure_size=(12, 12)):\n",
        "    fig = plt.figure(figsize=figure_size)\n",
        "    for i in range(len(images)):\n",
        "        fig.add_subplot(1, len(images), i + 1)\n",
        "        _ = plt.imshow(images[i])\n",
        "        plt.axis(\"off\")\n",
        "    plt.show()\n",
        "plot_results(test_imgs)"
      ],
      "metadata": {
        "id": "FjIlUo1cXDJ_",
        "outputId": "9a696f8b-e1e2-4abe-8785-5cf26887625d",
        "colab": {
          "base_uri": "https://localhost:8080/",
          "height": 69
        }
      },
      "execution_count": 73,
      "outputs": [
        {
          "output_type": "display_data",
          "data": {
            "text/plain": [
              "<Figure size 864x864 with 15 Axes>"
            ],
            "image/png": "[encoded data removed]"
          },
          "metadata": {
            "needs_background": "light"
          }
        }
      ]
    },
    {
      "cell_type": "code",
      "source": [
        "class dce_net(nn.Module):\n",
        "    loss_spa: None\n",
        "\n",
        "    @nn.compact\n",
        "    def __call__(self, x):\n",
        "\n",
        "        x1 = nn.Conv(32, kernel_size=(3, 3))(x)\n",
        "        x1 = nn.relu(x1)\n",
        "        x2 = nn.Conv(32, kernel_size=(3, 3))(x1)\n",
        "        x2 = nn.relu(x2)\n",
        "        x3 = nn.Conv(32, kernel_size=(3, 3))(x2)\n",
        "        x3 = nn.relu(x3)\n",
        "        x4 = nn.Conv(32, kernel_size=(3, 3))(x3)\n",
        "        x4 = nn.relu(x4)\n",
        "\n",
        "        new_x1 = jnp.concatenate([x4, x3], axis=-1)\n",
        "        x5 = nn.Conv(32, kernel_size=(3, 3))(new_x1)\n",
        "        x5 = nn.relu(x5)\n",
        "\n",
        "        new_x2 = jnp.concatenate([x5, x2], axis=-1)\n",
        "        x6 = nn.Conv(32, kernel_size=(3, 3))(new_x2)\n",
        "        x6 = nn.relu(x6)\n",
        "\n",
        "        new_x3 = jnp.concatenate([x6, x1], axis=-1)\n",
        "        x7 = nn.Conv(24, kernel_size=(3, 3))(new_x3)\n",
        "        output = nn.tanh(x7)\n",
        "        return output\n",
        "\n",
        "    def loss_fn(self, params, org):\n",
        "        output = self.apply(params, org)\n",
        "        enhanced_y = get_enhanced_image(org, output)\n",
        "\n",
        "        loss_ls = 200 * illumination_smoothness_loss(output)\n",
        "        loss_spa = jnp.mean(self.loss_spa(org, enhanced_y))\n",
        "        loss_color = 5 * jnp.mean(color_constancy_loss(enhanced_y))\n",
        "        loss_exp = 10 * jnp.mean(exposure_loss(enhanced_y))\n",
        "\n",
        "        total_loss = loss_ls + loss_spa + loss_color + loss_exp\n",
        "\n",
        "        return total_loss\n",
        "\n",
        "    def predict(self, params, x):\n",
        "        output = self.apply(params, x)\n",
        "        return get_enhanced_image(x, output)"
      ],
      "metadata": {
        "execution": {
          "iopub.status.busy": "2022-09-12T10:22:20.755819Z",
          "iopub.execute_input": "2022-09-12T10:22:20.756188Z",
          "iopub.status.idle": "2022-09-12T10:22:20.768666Z",
          "shell.execute_reply.started": "2022-09-12T10:22:20.756151Z",
          "shell.execute_reply": "2022-09-12T10:22:20.767612Z"
        },
        "trusted": true,
        "id": "0A8OZAQFPZvd"
      },
      "execution_count": 21,
      "outputs": []
    },
    {
      "cell_type": "markdown",
      "source": [
        "#### Fit Function"
      ],
      "metadata": {
        "id": "Jg-TlKPaPZve"
      }
    },
    {
      "cell_type": "code",
      "source": [
        "def fit(model, params, train_ds, batch_size=32, learning_rate=0.01, epochs=10, rng=jax.random.PRNGKey(0)):\n",
        "    opt = optax.adam(learning_rate=learning_rate)\n",
        "    opt_state = opt.init(params)\n",
        "\n",
        "    loss_grad_fn = jax.jit(jax.value_and_grad(model.loss_fn))\n",
        "    losses = []\n",
        "    batches_per_epoch = 1024//64\n",
        "    for i in range(epochs):\n",
        "        for j in tqdm(range(batches_per_epoch)):\n",
        "            X = next(iter(train_ds))\n",
        "            X = jnp.array(X)\n",
        "            loss_val, grads = loss_grad_fn(params, X)\n",
        "            updates, opt_state = opt.update(grads, opt_state, params)\n",
        "            params = optax.apply_updates(params, updates)\n",
        "        \n",
        "        print(f'Loss after {i} epoch : ', loss_val)\n",
        "    return params, loss_val"
      ],
      "metadata": {
        "execution": {
          "iopub.status.busy": "2022-09-12T10:22:21.825944Z",
          "iopub.execute_input": "2022-09-12T10:22:21.826315Z",
          "iopub.status.idle": "2022-09-12T10:22:22.615619Z",
          "shell.execute_reply.started": "2022-09-12T10:22:21.826283Z",
          "shell.execute_reply": "2022-09-12T10:22:22.613641Z"
        },
        "trusted": true,
        "id": "r_fYcJWMPZve"
      },
      "execution_count": 22,
      "outputs": []
    },
    {
      "cell_type": "markdown",
      "source": [
        "## Train"
      ],
      "metadata": {
        "id": "qlwaJIRsPZvf"
      }
    },
    {
      "cell_type": "code",
      "source": [
        "model = dce_net(SpatialConsistencyLoss())"
      ],
      "metadata": {
        "execution": {
          "iopub.status.busy": "2022-09-12T10:22:25.106304Z",
          "iopub.execute_input": "2022-09-12T10:22:25.106746Z",
          "iopub.status.idle": "2022-09-12T10:22:26.462884Z",
          "shell.execute_reply.started": "2022-09-12T10:22:25.106714Z",
          "shell.execute_reply": "2022-09-12T10:22:26.461144Z"
        },
        "trusted": true,
        "id": "hjyBDYOOPZvf"
      },
      "execution_count": 23,
      "outputs": []
    },
    {
      "cell_type": "code",
      "source": [
        "model.tabulate(jax.random.PRNGKey(0), jnp.ones((1, 256, 256, 3)))"
      ],
      "metadata": {
        "id": "KKYR7AoNPZvf",
        "outputId": "d2439869-b22a-43f1-aa2e-1e8d84c451a7",
        "colab": {
          "base_uri": "https://localhost:8080/",
          "height": 787
        }
      },
      "execution_count": 24,
      "outputs": [
        {
          "output_type": "display_data",
          "data": {
            "text/plain": [
              "\u001b[3m                        dce_net Summary                         \u001b[0m\n",
              "┏━━━━━━━━━┳━━━━━━━━━━━━━━━━━━━━━━━┳━━━━━━━━━━━━━━━━━━━━━━━━━━━━┓\n",
              "┃\u001b[1m \u001b[0m\u001b[1mpath   \u001b[0m\u001b[1m \u001b[0m┃\u001b[1m \u001b[0m\u001b[1moutputs              \u001b[0m\u001b[1m \u001b[0m┃\u001b[1m \u001b[0m\u001b[1mparams                    \u001b[0m\u001b[1m \u001b[0m┃\n",
              "┡━━━━━━━━━╇━━━━━━━━━━━━━━━━━━━━━━━╇━━━━━━━━━━━━━━━━━━━━━━━━━━━━┩\n",
              "│ Inputs  │ \u001b[2mfloat32\u001b[0m[1,256,256,3]  │                            │\n",
              "├─────────┼───────────────────────┼────────────────────────────┤\n",
              "│ Conv_0  │ \u001b[2mfloat32\u001b[0m[1,256,256,32] │ bias: \u001b[2mfloat32\u001b[0m[32]          │\n",
              "│         │                       │ kernel: \u001b[2mfloat32\u001b[0m[3,3,3,32]  │\n",
              "│         │                       │                            │\n",
              "│         │                       │ \u001b[1m896 \u001b[0m\u001b[1;2m(3.6 KB)\u001b[0m               │\n",
              "├─────────┼───────────────────────┼────────────────────────────┤\n",
              "│ Conv_1  │ \u001b[2mfloat32\u001b[0m[1,256,256,32] │ bias: \u001b[2mfloat32\u001b[0m[32]          │\n",
              "│         │                       │ kernel: \u001b[2mfloat32\u001b[0m[3,3,32,32] │\n",
              "│         │                       │                            │\n",
              "│         │                       │ \u001b[1m9,248 \u001b[0m\u001b[1;2m(37.0 KB)\u001b[0m            │\n",
              "├─────────┼───────────────────────┼────────────────────────────┤\n",
              "│ Conv_2  │ \u001b[2mfloat32\u001b[0m[1,256,256,32] │ bias: \u001b[2mfloat32\u001b[0m[32]          │\n",
              "│         │                       │ kernel: \u001b[2mfloat32\u001b[0m[3,3,32,32] │\n",
              "│         │                       │                            │\n",
              "│         │                       │ \u001b[1m9,248 \u001b[0m\u001b[1;2m(37.0 KB)\u001b[0m            │\n",
              "├─────────┼───────────────────────┼────────────────────────────┤\n",
              "│ Conv_3  │ \u001b[2mfloat32\u001b[0m[1,256,256,32] │ bias: \u001b[2mfloat32\u001b[0m[32]          │\n",
              "│         │                       │ kernel: \u001b[2mfloat32\u001b[0m[3,3,32,32] │\n",
              "│         │                       │                            │\n",
              "│         │                       │ \u001b[1m9,248 \u001b[0m\u001b[1;2m(37.0 KB)\u001b[0m            │\n",
              "├─────────┼───────────────────────┼────────────────────────────┤\n",
              "│ Conv_4  │ \u001b[2mfloat32\u001b[0m[1,256,256,32] │ bias: \u001b[2mfloat32\u001b[0m[32]          │\n",
              "│         │                       │ kernel: \u001b[2mfloat32\u001b[0m[3,3,64,32] │\n",
              "│         │                       │                            │\n",
              "│         │                       │ \u001b[1m18,464 \u001b[0m\u001b[1;2m(73.9 KB)\u001b[0m           │\n",
              "├─────────┼───────────────────────┼────────────────────────────┤\n",
              "│ Conv_5  │ \u001b[2mfloat32\u001b[0m[1,256,256,32] │ bias: \u001b[2mfloat32\u001b[0m[32]          │\n",
              "│         │                       │ kernel: \u001b[2mfloat32\u001b[0m[3,3,64,32] │\n",
              "│         │                       │                            │\n",
              "│         │                       │ \u001b[1m18,464 \u001b[0m\u001b[1;2m(73.9 KB)\u001b[0m           │\n",
              "├─────────┼───────────────────────┼────────────────────────────┤\n",
              "│ Conv_6  │ \u001b[2mfloat32\u001b[0m[1,256,256,24] │ bias: \u001b[2mfloat32\u001b[0m[24]          │\n",
              "│         │                       │ kernel: \u001b[2mfloat32\u001b[0m[3,3,64,24] │\n",
              "│         │                       │                            │\n",
              "│         │                       │ \u001b[1m13,848 \u001b[0m\u001b[1;2m(55.4 KB)\u001b[0m           │\n",
              "├─────────┼───────────────────────┼────────────────────────────┤\n",
              "│ dce_net │ \u001b[2mfloat32\u001b[0m[1,256,256,24] │                            │\n",
              "├─────────┼───────────────────────┼────────────────────────────┤\n",
              "│\u001b[1m \u001b[0m\u001b[1m       \u001b[0m\u001b[1m \u001b[0m│\u001b[1m \u001b[0m\u001b[1m                Total\u001b[0m\u001b[1m \u001b[0m│\u001b[1m \u001b[0m\u001b[1m79,416 \u001b[0m\u001b[1;2m(317.7 KB)\u001b[0m\u001b[1m         \u001b[0m\u001b[1m \u001b[0m│\n",
              "└─────────┴───────────────────────┴────────────────────────────┘\n",
              "\u001b[1m                                                                \u001b[0m\n",
              "\u001b[1m              Total Parameters: 79,416 \u001b[0m\u001b[1;2m(317.7 KB)\u001b[0m\u001b[1m               \u001b[0m\n"
            ],
            "text/html": [
              "<pre style=\"white-space:pre;overflow-x:auto;line-height:normal;font-family:Menlo,'DejaVu Sans Mono',consolas,'Courier New',monospace\"><span style=\"font-style: italic\">                        dce_net Summary                         </span>\n",
              "┏━━━━━━━━━┳━━━━━━━━━━━━━━━━━━━━━━━┳━━━━━━━━━━━━━━━━━━━━━━━━━━━━┓\n",
              "┃<span style=\"font-weight: bold\"> path    </span>┃<span style=\"font-weight: bold\"> outputs               </span>┃<span style=\"font-weight: bold\"> params                     </span>┃\n",
              "┡━━━━━━━━━╇━━━━━━━━━━━━━━━━━━━━━━━╇━━━━━━━━━━━━━━━━━━━━━━━━━━━━┩\n",
              "│ Inputs  │ <span style=\"color: #7f7f7f; text-decoration-color: #7f7f7f\">float32</span>[1,256,256,3]  │                            │\n",
              "├─────────┼───────────────────────┼────────────────────────────┤\n",
              "│ Conv_0  │ <span style=\"color: #7f7f7f; text-decoration-color: #7f7f7f\">float32</span>[1,256,256,32] │ bias: <span style=\"color: #7f7f7f; text-decoration-color: #7f7f7f\">float32</span>[32]          │\n",
              "│         │                       │ kernel: <span style=\"color: #7f7f7f; text-decoration-color: #7f7f7f\">float32</span>[3,3,3,32]  │\n",
              "│         │                       │                            │\n",
              "│         │                       │ <span style=\"font-weight: bold\">896 </span><span style=\"color: #7f7f7f; text-decoration-color: #7f7f7f; font-weight: bold\">(3.6 KB)</span>               │\n",
              "├─────────┼───────────────────────┼────────────────────────────┤\n",
              "│ Conv_1  │ <span style=\"color: #7f7f7f; text-decoration-color: #7f7f7f\">float32</span>[1,256,256,32] │ bias: <span style=\"color: #7f7f7f; text-decoration-color: #7f7f7f\">float32</span>[32]          │\n",
              "│         │                       │ kernel: <span style=\"color: #7f7f7f; text-decoration-color: #7f7f7f\">float32</span>[3,3,32,32] │\n",
              "│         │                       │                            │\n",
              "│         │                       │ <span style=\"font-weight: bold\">9,248 </span><span style=\"color: #7f7f7f; text-decoration-color: #7f7f7f; font-weight: bold\">(37.0 KB)</span>            │\n",
              "├─────────┼───────────────────────┼────────────────────────────┤\n",
              "│ Conv_2  │ <span style=\"color: #7f7f7f; text-decoration-color: #7f7f7f\">float32</span>[1,256,256,32] │ bias: <span style=\"color: #7f7f7f; text-decoration-color: #7f7f7f\">float32</span>[32]          │\n",
              "│         │                       │ kernel: <span style=\"color: #7f7f7f; text-decoration-color: #7f7f7f\">float32</span>[3,3,32,32] │\n",
              "│         │                       │                            │\n",
              "│         │                       │ <span style=\"font-weight: bold\">9,248 </span><span style=\"color: #7f7f7f; text-decoration-color: #7f7f7f; font-weight: bold\">(37.0 KB)</span>            │\n",
              "├─────────┼───────────────────────┼────────────────────────────┤\n",
              "│ Conv_3  │ <span style=\"color: #7f7f7f; text-decoration-color: #7f7f7f\">float32</span>[1,256,256,32] │ bias: <span style=\"color: #7f7f7f; text-decoration-color: #7f7f7f\">float32</span>[32]          │\n",
              "│         │                       │ kernel: <span style=\"color: #7f7f7f; text-decoration-color: #7f7f7f\">float32</span>[3,3,32,32] │\n",
              "│         │                       │                            │\n",
              "│         │                       │ <span style=\"font-weight: bold\">9,248 </span><span style=\"color: #7f7f7f; text-decoration-color: #7f7f7f; font-weight: bold\">(37.0 KB)</span>            │\n",
              "├─────────┼───────────────────────┼────────────────────────────┤\n",
              "│ Conv_4  │ <span style=\"color: #7f7f7f; text-decoration-color: #7f7f7f\">float32</span>[1,256,256,32] │ bias: <span style=\"color: #7f7f7f; text-decoration-color: #7f7f7f\">float32</span>[32]          │\n",
              "│         │                       │ kernel: <span style=\"color: #7f7f7f; text-decoration-color: #7f7f7f\">float32</span>[3,3,64,32] │\n",
              "│         │                       │                            │\n",
              "│         │                       │ <span style=\"font-weight: bold\">18,464 </span><span style=\"color: #7f7f7f; text-decoration-color: #7f7f7f; font-weight: bold\">(73.9 KB)</span>           │\n",
              "├─────────┼───────────────────────┼────────────────────────────┤\n",
              "│ Conv_5  │ <span style=\"color: #7f7f7f; text-decoration-color: #7f7f7f\">float32</span>[1,256,256,32] │ bias: <span style=\"color: #7f7f7f; text-decoration-color: #7f7f7f\">float32</span>[32]          │\n",
              "│         │                       │ kernel: <span style=\"color: #7f7f7f; text-decoration-color: #7f7f7f\">float32</span>[3,3,64,32] │\n",
              "│         │                       │                            │\n",
              "│         │                       │ <span style=\"font-weight: bold\">18,464 </span><span style=\"color: #7f7f7f; text-decoration-color: #7f7f7f; font-weight: bold\">(73.9 KB)</span>           │\n",
              "├─────────┼───────────────────────┼────────────────────────────┤\n",
              "│ Conv_6  │ <span style=\"color: #7f7f7f; text-decoration-color: #7f7f7f\">float32</span>[1,256,256,24] │ bias: <span style=\"color: #7f7f7f; text-decoration-color: #7f7f7f\">float32</span>[24]          │\n",
              "│         │                       │ kernel: <span style=\"color: #7f7f7f; text-decoration-color: #7f7f7f\">float32</span>[3,3,64,24] │\n",
              "│         │                       │                            │\n",
              "│         │                       │ <span style=\"font-weight: bold\">13,848 </span><span style=\"color: #7f7f7f; text-decoration-color: #7f7f7f; font-weight: bold\">(55.4 KB)</span>           │\n",
              "├─────────┼───────────────────────┼────────────────────────────┤\n",
              "│ dce_net │ <span style=\"color: #7f7f7f; text-decoration-color: #7f7f7f\">float32</span>[1,256,256,24] │                            │\n",
              "├─────────┼───────────────────────┼────────────────────────────┤\n",
              "│<span style=\"font-weight: bold\">         </span>│<span style=\"font-weight: bold\">                 Total </span>│<span style=\"font-weight: bold\"> 79,416 </span><span style=\"color: #7f7f7f; text-decoration-color: #7f7f7f; font-weight: bold\">(317.7 KB)</span><span style=\"font-weight: bold\">          </span>│\n",
              "└─────────┴───────────────────────┴────────────────────────────┘\n",
              "<span style=\"font-weight: bold\">                                                                </span>\n",
              "<span style=\"font-weight: bold\">              Total Parameters: 79,416 </span><span style=\"color: #7f7f7f; text-decoration-color: #7f7f7f; font-weight: bold\">(317.7 KB)</span><span style=\"font-weight: bold\">               </span>\n",
              "</pre>\n"
            ]
          },
          "metadata": {}
        },
        {
          "output_type": "execute_result",
          "data": {
            "text/plain": [
              "'\\n\\n'"
            ],
            "application/vnd.google.colaboratory.intrinsic+json": {
              "type": "string"
            }
          },
          "metadata": {},
          "execution_count": 24
        }
      ]
    },
    {
      "cell_type": "code",
      "source": [
        "params = model.init(jax.random.PRNGKey(0), jnp.ones((1, 256, 256, 3)))"
      ],
      "metadata": {
        "id": "KBGLkukkPZvf"
      },
      "execution_count": 25,
      "outputs": []
    },
    {
      "cell_type": "code",
      "source": [
        "params, losses = fit(model, params, train_dataset, batch_size=64, learning_rate=0.0001, epochs=60)"
      ],
      "metadata": {
        "id": "OXNHkn-hPZvf",
        "outputId": "fb619f50-ab87-4799-8b00-7013468699e0",
        "colab": {
          "base_uri": "https://localhost:8080/",
          "height": 468
        }
      },
      "execution_count": 26,
      "outputs": [
        {
          "output_type": "stream",
          "name": "stderr",
          "text": [
            "100%|██████████| 16/16 [00:39<00:00,  2.48s/it]\n"
          ]
        },
        {
          "output_type": "stream",
          "name": "stdout",
          "text": [
            "Loss after 0 epoch :  33.267784\n"
          ]
        },
        {
          "output_type": "stream",
          "name": "stderr",
          "text": [
            "100%|██████████| 16/16 [00:28<00:00,  1.76s/it]\n"
          ]
        },
        {
          "output_type": "stream",
          "name": "stdout",
          "text": [
            "Loss after 1 epoch :  24.654116\n"
          ]
        },
        {
          "output_type": "stream",
          "name": "stderr",
          "text": [
            "100%|██████████| 16/16 [00:24<00:00,  1.56s/it]\n"
          ]
        },
        {
          "output_type": "stream",
          "name": "stdout",
          "text": [
            "Loss after 2 epoch :  18.912804\n"
          ]
        },
        {
          "output_type": "stream",
          "name": "stderr",
          "text": [
            "100%|██████████| 16/16 [00:25<00:00,  1.59s/it]\n"
          ]
        },
        {
          "output_type": "stream",
          "name": "stdout",
          "text": [
            "Loss after 3 epoch :  14.923998\n"
          ]
        },
        {
          "output_type": "stream",
          "name": "stderr",
          "text": [
            " 62%|██████▎   | 10/16 [00:16<00:09,  1.66s/it]\n"
          ]
        },
        {
          "output_type": "error",
          "ename": "KeyboardInterrupt",
          "evalue": "ignored",
          "traceback": [
            "\u001b[0;31m---------------------------------------------------------------------------\u001b[0m",
            "\u001b[0;31mKeyboardInterrupt\u001b[0m                         Traceback (most recent call last)",
            "\u001b[0;32m<ipython-input-26-084f81ca8564>\u001b[0m in \u001b[0;36m<module>\u001b[0;34m\u001b[0m\n\u001b[0;32m----> 1\u001b[0;31m \u001b[0mparams\u001b[0m\u001b[0;34m,\u001b[0m \u001b[0mlosses\u001b[0m \u001b[0;34m=\u001b[0m \u001b[0mfit\u001b[0m\u001b[0;34m(\u001b[0m\u001b[0mmodel\u001b[0m\u001b[0;34m,\u001b[0m \u001b[0mparams\u001b[0m\u001b[0;34m,\u001b[0m \u001b[0mtrain_dataset\u001b[0m\u001b[0;34m,\u001b[0m \u001b[0mbatch_size\u001b[0m\u001b[0;34m=\u001b[0m\u001b[0;36m64\u001b[0m\u001b[0;34m,\u001b[0m \u001b[0mlearning_rate\u001b[0m\u001b[0;34m=\u001b[0m\u001b[0;36m0.0001\u001b[0m\u001b[0;34m,\u001b[0m \u001b[0mepochs\u001b[0m\u001b[0;34m=\u001b[0m\u001b[0;36m60\u001b[0m\u001b[0;34m)\u001b[0m\u001b[0;34m\u001b[0m\u001b[0;34m\u001b[0m\u001b[0m\n\u001b[0m",
            "\u001b[0;32m<ipython-input-22-1ceaf2483c05>\u001b[0m in \u001b[0;36mfit\u001b[0;34m(model, params, train_ds, batch_size, learning_rate, epochs, rng)\u001b[0m\n\u001b[1;32m     11\u001b[0m             \u001b[0mX\u001b[0m \u001b[0;34m=\u001b[0m \u001b[0mjnp\u001b[0m\u001b[0;34m.\u001b[0m\u001b[0marray\u001b[0m\u001b[0;34m(\u001b[0m\u001b[0mX\u001b[0m\u001b[0;34m)\u001b[0m\u001b[0;34m\u001b[0m\u001b[0;34m\u001b[0m\u001b[0m\n\u001b[1;32m     12\u001b[0m             \u001b[0mloss_val\u001b[0m\u001b[0;34m,\u001b[0m \u001b[0mgrads\u001b[0m \u001b[0;34m=\u001b[0m \u001b[0mloss_grad_fn\u001b[0m\u001b[0;34m(\u001b[0m\u001b[0mparams\u001b[0m\u001b[0;34m,\u001b[0m \u001b[0mX\u001b[0m\u001b[0;34m)\u001b[0m\u001b[0;34m\u001b[0m\u001b[0;34m\u001b[0m\u001b[0m\n\u001b[0;32m---> 13\u001b[0;31m             \u001b[0mupdates\u001b[0m\u001b[0;34m,\u001b[0m \u001b[0mopt_state\u001b[0m \u001b[0;34m=\u001b[0m \u001b[0mopt\u001b[0m\u001b[0;34m.\u001b[0m\u001b[0mupdate\u001b[0m\u001b[0;34m(\u001b[0m\u001b[0mgrads\u001b[0m\u001b[0;34m,\u001b[0m \u001b[0mopt_state\u001b[0m\u001b[0;34m,\u001b[0m \u001b[0mparams\u001b[0m\u001b[0;34m)\u001b[0m\u001b[0;34m\u001b[0m\u001b[0;34m\u001b[0m\u001b[0m\n\u001b[0m\u001b[1;32m     14\u001b[0m             \u001b[0mparams\u001b[0m \u001b[0;34m=\u001b[0m \u001b[0moptax\u001b[0m\u001b[0;34m.\u001b[0m\u001b[0mapply_updates\u001b[0m\u001b[0;34m(\u001b[0m\u001b[0mparams\u001b[0m\u001b[0;34m,\u001b[0m \u001b[0mupdates\u001b[0m\u001b[0;34m)\u001b[0m\u001b[0;34m\u001b[0m\u001b[0;34m\u001b[0m\u001b[0m\n\u001b[1;32m     15\u001b[0m \u001b[0;34m\u001b[0m\u001b[0m\n",
            "\u001b[0;32m/usr/local/lib/python3.7/dist-packages/optax/_src/combine.py\u001b[0m in \u001b[0;36mupdate_fn\u001b[0;34m(updates, state, params)\u001b[0m\n\u001b[1;32m     52\u001b[0m     \u001b[0mnew_state\u001b[0m \u001b[0;34m=\u001b[0m \u001b[0;34m[\u001b[0m\u001b[0;34m]\u001b[0m\u001b[0;34m\u001b[0m\u001b[0;34m\u001b[0m\u001b[0m\n\u001b[1;32m     53\u001b[0m     \u001b[0;32mfor\u001b[0m \u001b[0ms\u001b[0m\u001b[0;34m,\u001b[0m \u001b[0mfn\u001b[0m \u001b[0;32min\u001b[0m \u001b[0mzip\u001b[0m\u001b[0;34m(\u001b[0m\u001b[0mstate\u001b[0m\u001b[0;34m,\u001b[0m \u001b[0mupdate_fns\u001b[0m\u001b[0;34m)\u001b[0m\u001b[0;34m:\u001b[0m\u001b[0;34m\u001b[0m\u001b[0;34m\u001b[0m\u001b[0m\n\u001b[0;32m---> 54\u001b[0;31m       \u001b[0mupdates\u001b[0m\u001b[0;34m,\u001b[0m \u001b[0mnew_s\u001b[0m \u001b[0;34m=\u001b[0m \u001b[0mfn\u001b[0m\u001b[0;34m(\u001b[0m\u001b[0mupdates\u001b[0m\u001b[0;34m,\u001b[0m \u001b[0ms\u001b[0m\u001b[0;34m,\u001b[0m \u001b[0mparams\u001b[0m\u001b[0;34m)\u001b[0m\u001b[0;34m\u001b[0m\u001b[0;34m\u001b[0m\u001b[0m\n\u001b[0m\u001b[1;32m     55\u001b[0m       \u001b[0mnew_state\u001b[0m\u001b[0;34m.\u001b[0m\u001b[0mappend\u001b[0m\u001b[0;34m(\u001b[0m\u001b[0mnew_s\u001b[0m\u001b[0;34m)\u001b[0m\u001b[0;34m\u001b[0m\u001b[0;34m\u001b[0m\u001b[0m\n\u001b[1;32m     56\u001b[0m     \u001b[0;32mreturn\u001b[0m \u001b[0mupdates\u001b[0m\u001b[0;34m,\u001b[0m \u001b[0mtuple\u001b[0m\u001b[0;34m(\u001b[0m\u001b[0mnew_state\u001b[0m\u001b[0;34m)\u001b[0m\u001b[0;34m\u001b[0m\u001b[0;34m\u001b[0m\u001b[0m\n",
            "\u001b[0;32m/usr/local/lib/python3.7/dist-packages/optax/_src/transform.py\u001b[0m in \u001b[0;36mupdate_fn\u001b[0;34m(***failed resolving arguments***)\u001b[0m\n\u001b[1;32m    332\u001b[0m   \u001b[0;32mdef\u001b[0m \u001b[0mupdate_fn\u001b[0m\u001b[0;34m(\u001b[0m\u001b[0mupdates\u001b[0m\u001b[0;34m,\u001b[0m \u001b[0mstate\u001b[0m\u001b[0;34m,\u001b[0m \u001b[0mparams\u001b[0m\u001b[0;34m=\u001b[0m\u001b[0;32mNone\u001b[0m\u001b[0;34m)\u001b[0m\u001b[0;34m:\u001b[0m\u001b[0;34m\u001b[0m\u001b[0;34m\u001b[0m\u001b[0m\n\u001b[1;32m    333\u001b[0m     \u001b[0;32mdel\u001b[0m \u001b[0mparams\u001b[0m\u001b[0;34m\u001b[0m\u001b[0;34m\u001b[0m\u001b[0m\n\u001b[0;32m--> 334\u001b[0;31m     \u001b[0mmu\u001b[0m \u001b[0;34m=\u001b[0m \u001b[0mupdate_moment\u001b[0m\u001b[0;34m(\u001b[0m\u001b[0mupdates\u001b[0m\u001b[0;34m,\u001b[0m \u001b[0mstate\u001b[0m\u001b[0;34m.\u001b[0m\u001b[0mmu\u001b[0m\u001b[0;34m,\u001b[0m \u001b[0mb1\u001b[0m\u001b[0;34m,\u001b[0m \u001b[0;36m1\u001b[0m\u001b[0;34m)\u001b[0m\u001b[0;34m\u001b[0m\u001b[0;34m\u001b[0m\u001b[0m\n\u001b[0m\u001b[1;32m    335\u001b[0m     \u001b[0mnu\u001b[0m \u001b[0;34m=\u001b[0m \u001b[0mupdate_moment_per_elem_norm\u001b[0m\u001b[0;34m(\u001b[0m\u001b[0mupdates\u001b[0m\u001b[0;34m,\u001b[0m \u001b[0mstate\u001b[0m\u001b[0;34m.\u001b[0m\u001b[0mnu\u001b[0m\u001b[0;34m,\u001b[0m \u001b[0mb2\u001b[0m\u001b[0;34m,\u001b[0m \u001b[0;36m2\u001b[0m\u001b[0;34m)\u001b[0m\u001b[0;34m\u001b[0m\u001b[0;34m\u001b[0m\u001b[0m\n\u001b[1;32m    336\u001b[0m     \u001b[0mcount_inc\u001b[0m \u001b[0;34m=\u001b[0m \u001b[0mnumerics\u001b[0m\u001b[0;34m.\u001b[0m\u001b[0msafe_int32_increment\u001b[0m\u001b[0;34m(\u001b[0m\u001b[0mstate\u001b[0m\u001b[0;34m.\u001b[0m\u001b[0mcount\u001b[0m\u001b[0;34m)\u001b[0m\u001b[0;34m\u001b[0m\u001b[0;34m\u001b[0m\u001b[0m\n",
            "\u001b[0;32m/usr/local/lib/python3.7/dist-packages/optax/_src/transform.py\u001b[0m in \u001b[0;36mupdate_moment\u001b[0;34m(updates, moments, decay, order)\u001b[0m\n\u001b[1;32m     82\u001b[0m   \u001b[0;34m\"\"\"Compute the exponential moving average of the `order`-th moment.\"\"\"\u001b[0m\u001b[0;34m\u001b[0m\u001b[0;34m\u001b[0m\u001b[0m\n\u001b[1;32m     83\u001b[0m   return jax.tree_util.tree_map(\n\u001b[0;32m---> 84\u001b[0;31m       lambda g, t: (1 - decay) * (g ** order) + decay * t, updates, moments)\n\u001b[0m\u001b[1;32m     85\u001b[0m \u001b[0;34m\u001b[0m\u001b[0m\n\u001b[1;32m     86\u001b[0m \u001b[0;34m\u001b[0m\u001b[0m\n",
            "\u001b[0;32m/usr/local/lib/python3.7/dist-packages/jax/_src/tree_util.py\u001b[0m in \u001b[0;36mtree_map\u001b[0;34m(f, tree, is_leaf, *rest)\u001b[0m\n\u001b[1;32m    203\u001b[0m   \u001b[0mleaves\u001b[0m\u001b[0;34m,\u001b[0m \u001b[0mtreedef\u001b[0m \u001b[0;34m=\u001b[0m \u001b[0mtree_flatten\u001b[0m\u001b[0;34m(\u001b[0m\u001b[0mtree\u001b[0m\u001b[0;34m,\u001b[0m \u001b[0mis_leaf\u001b[0m\u001b[0;34m)\u001b[0m\u001b[0;34m\u001b[0m\u001b[0;34m\u001b[0m\u001b[0m\n\u001b[1;32m    204\u001b[0m   \u001b[0mall_leaves\u001b[0m \u001b[0;34m=\u001b[0m \u001b[0;34m[\u001b[0m\u001b[0mleaves\u001b[0m\u001b[0;34m]\u001b[0m \u001b[0;34m+\u001b[0m \u001b[0;34m[\u001b[0m\u001b[0mtreedef\u001b[0m\u001b[0;34m.\u001b[0m\u001b[0mflatten_up_to\u001b[0m\u001b[0;34m(\u001b[0m\u001b[0mr\u001b[0m\u001b[0;34m)\u001b[0m \u001b[0;32mfor\u001b[0m \u001b[0mr\u001b[0m \u001b[0;32min\u001b[0m \u001b[0mrest\u001b[0m\u001b[0;34m]\u001b[0m\u001b[0;34m\u001b[0m\u001b[0;34m\u001b[0m\u001b[0m\n\u001b[0;32m--> 205\u001b[0;31m   \u001b[0;32mreturn\u001b[0m \u001b[0mtreedef\u001b[0m\u001b[0;34m.\u001b[0m\u001b[0munflatten\u001b[0m\u001b[0;34m(\u001b[0m\u001b[0mf\u001b[0m\u001b[0;34m(\u001b[0m\u001b[0;34m*\u001b[0m\u001b[0mxs\u001b[0m\u001b[0;34m)\u001b[0m \u001b[0;32mfor\u001b[0m \u001b[0mxs\u001b[0m \u001b[0;32min\u001b[0m \u001b[0mzip\u001b[0m\u001b[0;34m(\u001b[0m\u001b[0;34m*\u001b[0m\u001b[0mall_leaves\u001b[0m\u001b[0;34m)\u001b[0m\u001b[0;34m)\u001b[0m\u001b[0;34m\u001b[0m\u001b[0;34m\u001b[0m\u001b[0m\n\u001b[0m\u001b[1;32m    206\u001b[0m \u001b[0;34m\u001b[0m\u001b[0m\n\u001b[1;32m    207\u001b[0m \u001b[0;32mdef\u001b[0m \u001b[0mbuild_tree\u001b[0m\u001b[0;34m(\u001b[0m\u001b[0mtreedef\u001b[0m\u001b[0;34m,\u001b[0m \u001b[0mxs\u001b[0m\u001b[0;34m)\u001b[0m\u001b[0;34m:\u001b[0m\u001b[0;34m\u001b[0m\u001b[0;34m\u001b[0m\u001b[0m\n",
            "\u001b[0;32m/usr/local/lib/python3.7/dist-packages/jax/_src/tree_util.py\u001b[0m in \u001b[0;36m<genexpr>\u001b[0;34m(.0)\u001b[0m\n\u001b[1;32m    203\u001b[0m   \u001b[0mleaves\u001b[0m\u001b[0;34m,\u001b[0m \u001b[0mtreedef\u001b[0m \u001b[0;34m=\u001b[0m \u001b[0mtree_flatten\u001b[0m\u001b[0;34m(\u001b[0m\u001b[0mtree\u001b[0m\u001b[0;34m,\u001b[0m \u001b[0mis_leaf\u001b[0m\u001b[0;34m)\u001b[0m\u001b[0;34m\u001b[0m\u001b[0;34m\u001b[0m\u001b[0m\n\u001b[1;32m    204\u001b[0m   \u001b[0mall_leaves\u001b[0m \u001b[0;34m=\u001b[0m \u001b[0;34m[\u001b[0m\u001b[0mleaves\u001b[0m\u001b[0;34m]\u001b[0m \u001b[0;34m+\u001b[0m \u001b[0;34m[\u001b[0m\u001b[0mtreedef\u001b[0m\u001b[0;34m.\u001b[0m\u001b[0mflatten_up_to\u001b[0m\u001b[0;34m(\u001b[0m\u001b[0mr\u001b[0m\u001b[0;34m)\u001b[0m \u001b[0;32mfor\u001b[0m \u001b[0mr\u001b[0m \u001b[0;32min\u001b[0m \u001b[0mrest\u001b[0m\u001b[0;34m]\u001b[0m\u001b[0;34m\u001b[0m\u001b[0;34m\u001b[0m\u001b[0m\n\u001b[0;32m--> 205\u001b[0;31m   \u001b[0;32mreturn\u001b[0m \u001b[0mtreedef\u001b[0m\u001b[0;34m.\u001b[0m\u001b[0munflatten\u001b[0m\u001b[0;34m(\u001b[0m\u001b[0mf\u001b[0m\u001b[0;34m(\u001b[0m\u001b[0;34m*\u001b[0m\u001b[0mxs\u001b[0m\u001b[0;34m)\u001b[0m \u001b[0;32mfor\u001b[0m \u001b[0mxs\u001b[0m \u001b[0;32min\u001b[0m \u001b[0mzip\u001b[0m\u001b[0;34m(\u001b[0m\u001b[0;34m*\u001b[0m\u001b[0mall_leaves\u001b[0m\u001b[0;34m)\u001b[0m\u001b[0;34m)\u001b[0m\u001b[0;34m\u001b[0m\u001b[0;34m\u001b[0m\u001b[0m\n\u001b[0m\u001b[1;32m    206\u001b[0m \u001b[0;34m\u001b[0m\u001b[0m\n\u001b[1;32m    207\u001b[0m \u001b[0;32mdef\u001b[0m \u001b[0mbuild_tree\u001b[0m\u001b[0;34m(\u001b[0m\u001b[0mtreedef\u001b[0m\u001b[0;34m,\u001b[0m \u001b[0mxs\u001b[0m\u001b[0;34m)\u001b[0m\u001b[0;34m:\u001b[0m\u001b[0;34m\u001b[0m\u001b[0;34m\u001b[0m\u001b[0m\n",
            "\u001b[0;32m/usr/local/lib/python3.7/dist-packages/optax/_src/transform.py\u001b[0m in \u001b[0;36m<lambda>\u001b[0;34m(g, t)\u001b[0m\n\u001b[1;32m     82\u001b[0m   \u001b[0;34m\"\"\"Compute the exponential moving average of the `order`-th moment.\"\"\"\u001b[0m\u001b[0;34m\u001b[0m\u001b[0;34m\u001b[0m\u001b[0m\n\u001b[1;32m     83\u001b[0m   return jax.tree_util.tree_map(\n\u001b[0;32m---> 84\u001b[0;31m       lambda g, t: (1 - decay) * (g ** order) + decay * t, updates, moments)\n\u001b[0m\u001b[1;32m     85\u001b[0m \u001b[0;34m\u001b[0m\u001b[0m\n\u001b[1;32m     86\u001b[0m \u001b[0;34m\u001b[0m\u001b[0m\n",
            "\u001b[0;32m/usr/local/lib/python3.7/dist-packages/jax/_src/numpy/lax_numpy.py\u001b[0m in \u001b[0;36mdeferring_binary_op\u001b[0;34m(self, other)\u001b[0m\n\u001b[1;32m   4656\u001b[0m     \u001b[0margs\u001b[0m \u001b[0;34m=\u001b[0m \u001b[0;34m(\u001b[0m\u001b[0mother\u001b[0m\u001b[0;34m,\u001b[0m \u001b[0mself\u001b[0m\u001b[0;34m)\u001b[0m \u001b[0;32mif\u001b[0m \u001b[0mswap\u001b[0m \u001b[0;32melse\u001b[0m \u001b[0;34m(\u001b[0m\u001b[0mself\u001b[0m\u001b[0;34m,\u001b[0m \u001b[0mother\u001b[0m\u001b[0;34m)\u001b[0m\u001b[0;34m\u001b[0m\u001b[0;34m\u001b[0m\u001b[0m\n\u001b[1;32m   4657\u001b[0m     \u001b[0;32mif\u001b[0m \u001b[0misinstance\u001b[0m\u001b[0;34m(\u001b[0m\u001b[0mother\u001b[0m\u001b[0;34m,\u001b[0m \u001b[0m_accepted_binop_types\u001b[0m\u001b[0;34m)\u001b[0m\u001b[0;34m:\u001b[0m\u001b[0;34m\u001b[0m\u001b[0;34m\u001b[0m\u001b[0m\n\u001b[0;32m-> 4658\u001b[0;31m       \u001b[0;32mreturn\u001b[0m \u001b[0mbinary_op\u001b[0m\u001b[0;34m(\u001b[0m\u001b[0;34m*\u001b[0m\u001b[0margs\u001b[0m\u001b[0;34m)\u001b[0m\u001b[0;34m\u001b[0m\u001b[0;34m\u001b[0m\u001b[0m\n\u001b[0m\u001b[1;32m   4659\u001b[0m     \u001b[0;32mif\u001b[0m \u001b[0misinstance\u001b[0m\u001b[0;34m(\u001b[0m\u001b[0mother\u001b[0m\u001b[0;34m,\u001b[0m \u001b[0m_rejected_binop_types\u001b[0m\u001b[0;34m)\u001b[0m\u001b[0;34m:\u001b[0m\u001b[0;34m\u001b[0m\u001b[0;34m\u001b[0m\u001b[0m\n\u001b[1;32m   4660\u001b[0m       raise TypeError(f\"unsupported operand type(s) for {opchar}: \"\n",
            "\u001b[0;31mKeyboardInterrupt\u001b[0m: "
          ]
        }
      ]
    },
    {
      "cell_type": "code",
      "source": [
        "pd.to_pickle(params, \"model_params.pkl\")"
      ],
      "metadata": {
        "id": "o5dEC45kPZvg"
      },
      "execution_count": null,
      "outputs": []
    },
    {
      "cell_type": "markdown",
      "source": [
        "## Test"
      ],
      "metadata": {
        "id": "Vc63PbWSPZvg"
      }
    },
    {
      "cell_type": "code",
      "source": [
        "params = pd.read_pickle(\"model_params.pkl\")"
      ],
      "metadata": {
        "id": "NXVj9-pdPZvg"
      },
      "execution_count": null,
      "outputs": []
    },
    {
      "cell_type": "code",
      "source": [
        "test_preds = model.predict(params, test_imgs)"
      ],
      "metadata": {
        "id": "YeoYWelBPZvh"
      },
      "execution_count": null,
      "outputs": []
    },
    {
      "cell_type": "code",
      "source": [
        "plot_results(test_preds)"
      ],
      "metadata": {
        "id": "Z_laCKOuPZvh"
      },
      "execution_count": null,
      "outputs": []
    },
    {
      "cell_type": "code",
      "source": [],
      "metadata": {
        "id": "ovWpD7b4PZvh"
      },
      "execution_count": null,
      "outputs": []
    }
  ]
}